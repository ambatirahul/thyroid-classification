{
 "cells": [
  {
   "cell_type": "markdown",
   "metadata": {},
   "source": [
    "# Modeling And Machine Learning."
   ]
  },
  {
   "cell_type": "code",
   "execution_count": 1,
   "metadata": {
    "collapsed": true
   },
   "outputs": [],
   "source": [
    "%matplotlib inline  \n",
    "import pandas as pd\n",
    "import numpy as np\n",
    "import matplotlib.pyplot as plt\n",
    "import seaborn as sns"
   ]
  },
  {
   "cell_type": "code",
   "execution_count": 2,
   "metadata": {
    "collapsed": true
   },
   "outputs": [],
   "source": [
    "train = pd.read_pickle(\"../data/train_data_wrangle.plk\")\n",
    "test = pd.read_pickle(\"../data/test_data_wrangle.plk\")"
   ]
  },
  {
   "cell_type": "code",
   "execution_count": 3,
   "metadata": {},
   "outputs": [
    {
     "name": "stdout",
     "output_type": "stream",
     "text": [
      "[3 2 1]   [2 3 1]\n"
     ]
    }
   ],
   "source": [
    "print(train['class'].unique(), ' ', test['class'].unique())"
   ]
  },
  {
   "cell_type": "markdown",
   "metadata": {},
   "source": [
    "### Applying machine learning techniques."
   ]
  },
  {
   "cell_type": "code",
   "execution_count": 4,
   "metadata": {
    "collapsed": true
   },
   "outputs": [],
   "source": [
    "X_train = train.drop('class',axis=1)\n",
    "y_train = train['class']\n",
    "\n",
    "X_test = test.drop('class',axis=1)\n",
    "y_test = test['class']"
   ]
  },
  {
   "cell_type": "code",
   "execution_count": 5,
   "metadata": {},
   "outputs": [],
   "source": [
    "from sklearn.metrics import accuracy_score, classification_report, confusion_matrix\n",
    "\n",
    "\"\"\"A function used for fitting the classifier, predicting and returning prediction scores.\"\"\"\n",
    "def classifier_scores(clf, phase, x, y, to_print=False, class_print=False, func=accuracy_score):\n",
    "    if phase == 'train':\n",
    "        clf.fit(x, y)\n",
    "    clf_predict_scr = func(clf.predict(x), y)\n",
    "    if to_print:\n",
    "        print('Accuracy score of classifier on','train' if phase=='train' else phase,'is',clf_predict_scr)\n",
    "    if class_print:\n",
    "         print(clf)\n",
    "    return clf_predict_scr\n",
    "\n",
    "\"\"\"Function to print starts\"\"\"\n",
    "def print_stars(count):\n",
    "    print(count * '*')\n",
    "\n",
    "\"\"\"function prints out classification report\"\"\"\n",
    "def print_classification_report(clf, X_train, y_train, X_test, y_test):\n",
    "    print_stars(100)\n",
    "    print('Training Classification Report\\n',classification_report(y_train, clf.predict(X_train)))\n",
    "    print_stars(100)\n",
    "    print('Test Classification Report',classification_report(y_test, clf.predict(X_test)))\n",
    "    print_stars(100)\n",
    "\n",
    "\"\"\"function prints out confusion matrix\"\"\"\n",
    "def print_confusion_matrix(clf, X_train, y_train, X_test, y_test):\n",
    "    print_stars(100)\n",
    "    print('Training confusion matrix\\n',confusion_matrix(y_train, clf.predict(X_train)))\n",
    "    print_stars(100)\n",
    "    print('Test confusion matrix\\n',confusion_matrix(y_test, clf.predict(X_test)))\n",
    "    print_stars(100)"
   ]
  },
  {
   "cell_type": "code",
   "execution_count": 6,
   "metadata": {},
   "outputs": [
    {
     "name": "stdout",
     "output_type": "stream",
     "text": [
      "Accuracy score of classifier on train is 0.926033934252\n",
      "Accuracy score of classifier on test is 0.928529754959\n"
     ]
    }
   ],
   "source": [
    "from sklearn.linear_model import LogisticRegression\n",
    "from sklearn import metrics\n",
    "\n",
    "logreg = LogisticRegression()\n",
    "\n",
    "train_score = classifier_scores(logreg, 'train', X_train, y_train, True)\n",
    "test_score = classifier_scores(logreg, 'test', X_test, y_test, True)\n",
    "#print_classification_report(logreg, X_train, y_train, X_test, y_test)\n",
    "#print_confusion_matrix(logreg, X_train, y_train, X_test, y_test)"
   ]
  },
  {
   "cell_type": "markdown",
   "metadata": {},
   "source": [
    "Tuning parameters for logistic regression."
   ]
  },
  {
   "cell_type": "code",
   "execution_count": 7,
   "metadata": {
    "collapsed": true
   },
   "outputs": [],
   "source": [
    "#the grid of parameters to search over\n",
    "Cs = [0.001, 0.01, 0.1, 1, 10, 100, 1000]"
   ]
  },
  {
   "cell_type": "code",
   "execution_count": 8,
   "metadata": {},
   "outputs": [
    {
     "name": "stdout",
     "output_type": "stream",
     "text": [
      "C value: 1000\n",
      "Accuracy score of classifier on train is 0.952279957582\n",
      "Accuracy score of classifier on test is 0.946616102684\n",
      "****************************************************************************************************\n",
      "Training Classification Report\n",
      "              precision    recall  f1-score   support\n",
      "\n",
      "          1       0.87      0.88      0.88        93\n",
      "          2       0.93      0.14      0.25       191\n",
      "          3       0.95      1.00      0.98      3488\n",
      "\n",
      "avg / total       0.95      0.95      0.94      3772\n",
      "\n",
      "****************************************************************************************************\n",
      "Test Classification Report              precision    recall  f1-score   support\n",
      "\n",
      "          1       0.80      0.81      0.80        73\n",
      "          2       0.70      0.16      0.26       177\n",
      "          3       0.95      0.99      0.97      3178\n",
      "\n",
      "avg / total       0.94      0.95      0.93      3428\n",
      "\n",
      "****************************************************************************************************\n",
      "****************************************************************************************************\n",
      "Training confusion matrix\n",
      " [[  82    1   10]\n",
      " [   8   27  156]\n",
      " [   4    1 3483]]\n",
      "****************************************************************************************************\n",
      "Test confusion matrix\n",
      " [[  59    6    8]\n",
      " [   1   28  148]\n",
      " [  14    6 3158]]\n",
      "****************************************************************************************************\n"
     ]
    }
   ],
   "source": [
    "from sklearn.model_selection import GridSearchCV\n",
    "\n",
    "parameters = {'C':Cs}\n",
    "logreg = LogisticRegression()\n",
    "\n",
    "gridSearchClf = GridSearchCV(logreg, parameters)\n",
    "classifier_scores(gridSearchClf, 'train', X_train, y_train)\n",
    "\n",
    "c = gridSearchClf.best_params_['C']\n",
    "print('C value:',c)\n",
    "logreg_C = LogisticRegression(C = c)\n",
    "\n",
    "train_score = classifier_scores(logreg_C, 'train', X_train, y_train, True)\n",
    "test_score = classifier_scores(logreg_C, 'test', X_test, y_test, True)\n",
    "\n",
    "print_classification_report(logreg_C, X_train, y_train, X_test, y_test)\n",
    "print_confusion_matrix(logreg_C, X_train, y_train, X_test, y_test)"
   ]
  },
  {
   "cell_type": "markdown",
   "metadata": {},
   "source": [
    "C of 1000 did a better prediction than default."
   ]
  },
  {
   "cell_type": "markdown",
   "metadata": {},
   "source": [
    "Perform cross validation."
   ]
  },
  {
   "cell_type": "code",
   "execution_count": 9,
   "metadata": {},
   "outputs": [
    {
     "name": "stdout",
     "output_type": "stream",
     "text": [
      "10-fold cross validation average accuracy on train set is 0.95147\n",
      "10-fold cross validation average accuracy on test set is 0.94195\n",
      "****************************************************************************************************\n",
      "Training Classification Report\n",
      "              precision    recall  f1-score   support\n",
      "\n",
      "          1       0.87      0.88      0.88        93\n",
      "          2       0.93      0.14      0.25       191\n",
      "          3       0.95      1.00      0.98      3488\n",
      "\n",
      "avg / total       0.95      0.95      0.94      3772\n",
      "\n",
      "****************************************************************************************************\n",
      "Test Classification Report              precision    recall  f1-score   support\n",
      "\n",
      "          1       0.80      0.81      0.80        73\n",
      "          2       0.70      0.16      0.26       177\n",
      "          3       0.95      0.99      0.97      3178\n",
      "\n",
      "avg / total       0.94      0.95      0.93      3428\n",
      "\n",
      "****************************************************************************************************\n",
      "****************************************************************************************************\n",
      "Training confusion matrix\n",
      " [[  82    1   10]\n",
      " [   8   27  156]\n",
      " [   4    1 3483]]\n",
      "****************************************************************************************************\n",
      "Test confusion matrix\n",
      " [[  59    6    8]\n",
      " [   1   28  148]\n",
      " [  14    6 3158]]\n",
      "****************************************************************************************************\n"
     ]
    }
   ],
   "source": [
    "from sklearn.model_selection import cross_val_score, KFold\n",
    "\n",
    "kfold = KFold(n_splits=10, random_state=42)\n",
    "\n",
    "logregmodelCV = LogisticRegression(C=c)\n",
    "logregmodelCV.fit(X_train, y_train)\n",
    "scorelogregCV = cross_val_score(logregmodelCV, X_train, y_train, cv=kfold)\n",
    "testscorelogregCV = cross_val_score(logregmodelCV, X_test, y_test, cv=kfold)\n",
    "\n",
    "print('10-fold cross validation average accuracy on train set is {:.5f}'.format(scorelogregCV.mean()))\n",
    "print('10-fold cross validation average accuracy on test set is {:.5f}'.format(testscorelogregCV.mean()))\n",
    "\n",
    "print_classification_report(logregmodelCV, X_train, y_train, X_test, y_test)\n",
    "print_confusion_matrix(logregmodelCV, X_train, y_train, X_test, y_test)"
   ]
  },
  {
   "cell_type": "markdown",
   "metadata": {},
   "source": [
    "After cross_validation compared with logreg_C accuracy was a bit lower, will stick with logreg_C."
   ]
  },
  {
   "cell_type": "markdown",
   "metadata": {},
   "source": [
    "Applying regularizations for logreg_C"
   ]
  },
  {
   "cell_type": "code",
   "execution_count": 10,
   "metadata": {},
   "outputs": [
    {
     "name": "stdout",
     "output_type": "stream",
     "text": [
      "L2 (default) regularization.\n",
      "****************************************************************************************************\n",
      "Training Classification Report\n",
      "              precision    recall  f1-score   support\n",
      "\n",
      "          1       0.87      0.88      0.88        93\n",
      "          2       0.93      0.14      0.25       191\n",
      "          3       0.95      1.00      0.98      3488\n",
      "\n",
      "avg / total       0.95      0.95      0.94      3772\n",
      "\n",
      "****************************************************************************************************\n",
      "Test Classification Report              precision    recall  f1-score   support\n",
      "\n",
      "          1       0.80      0.81      0.80        73\n",
      "          2       0.70      0.16      0.26       177\n",
      "          3       0.95      0.99      0.97      3178\n",
      "\n",
      "avg / total       0.94      0.95      0.93      3428\n",
      "\n",
      "****************************************************************************************************\n",
      "****************************************************************************************************\n",
      "Training confusion matrix\n",
      " [[  82    1   10]\n",
      " [   8   27  156]\n",
      " [   4    1 3483]]\n",
      "****************************************************************************************************\n",
      "Test confusion matrix\n",
      " [[  59    6    8]\n",
      " [   1   28  148]\n",
      " [  14    6 3158]]\n",
      "****************************************************************************************************\n"
     ]
    }
   ],
   "source": [
    "print('L2 (default) regularization.')\n",
    "print_classification_report(logreg_C, X_train, y_train, X_test, y_test)\n",
    "print_confusion_matrix(logreg_C, X_train, y_train, X_test, y_test)"
   ]
  },
  {
   "cell_type": "code",
   "execution_count": 11,
   "metadata": {},
   "outputs": [
    {
     "name": "stdout",
     "output_type": "stream",
     "text": [
      "Accuracy score of classifier on train is 0.957051961824\n",
      "Accuracy score of classifier on test is 0.949533255543\n",
      "****************************************************************************************************\n",
      "L1 regularization\n",
      "****************************************************************************************************\n",
      "Training Classification Report\n",
      "              precision    recall  f1-score   support\n",
      "\n",
      "          1       0.88      0.87      0.88        93\n",
      "          2       0.94      0.25      0.39       191\n",
      "          3       0.96      1.00      0.98      3488\n",
      "\n",
      "avg / total       0.96      0.96      0.95      3772\n",
      "\n",
      "****************************************************************************************************\n",
      "Test Classification Report              precision    recall  f1-score   support\n",
      "\n",
      "          1       0.76      0.82      0.79        73\n",
      "          2       0.76      0.25      0.37       177\n",
      "          3       0.96      0.99      0.97      3178\n",
      "\n",
      "avg / total       0.94      0.95      0.94      3428\n",
      "\n",
      "****************************************************************************************************\n",
      "****************************************************************************************************\n",
      "Training confusion matrix\n",
      " [[  82    1   10]\n",
      " [   8   27  156]\n",
      " [   4    1 3483]]\n",
      "****************************************************************************************************\n",
      "Test confusion matrix\n",
      " [[  59    6    8]\n",
      " [   1   28  148]\n",
      " [  14    6 3158]]\n",
      "****************************************************************************************************\n"
     ]
    }
   ],
   "source": [
    "logreg_C_l1 = LogisticRegression(penalty='l1', C=c)\n",
    "\n",
    "train_score = classifier_scores(logreg_C_l1, 'train', X_train, y_train, True)\n",
    "test_score = classifier_scores(logreg_C_l1, 'test', X_test, y_test, True)\n",
    "\n",
    "print_stars(100)\n",
    "print('L1 regularization')\n",
    "print_classification_report(logreg_C_l1, X_train, y_train, X_test, y_test)\n",
    "print_confusion_matrix(logreg_C, X_train, y_train, X_test, y_test)"
   ]
  },
  {
   "cell_type": "markdown",
   "metadata": {
    "collapsed": true
   },
   "source": [
    "With **L2, L1** regularization(s) the model performed bad in predicting the **class 2** in both training and testing phases.\n",
    "\n",
    "Logistic regression was not a good model here (especially in predicting class 2)."
   ]
  },
  {
   "cell_type": "markdown",
   "metadata": {},
   "source": [
    "## From the observation we see that we have an unbalanced data set, so will be applying different techniques to get better classification."
   ]
  },
  {
   "cell_type": "code",
   "execution_count": 12,
   "metadata": {},
   "outputs": [
    {
     "name": "stdout",
     "output_type": "stream",
     "text": [
      "Accuracy score of classifier on train is 0.942735949099\n",
      "Accuracy score of classifier on test is 0.936406067678\n",
      "****************************************************************************************************\n",
      "Training Classification Report\n",
      "              precision    recall  f1-score   support\n",
      "\n",
      "          1       0.76      0.92      0.83        93\n",
      "          2       0.00      0.00      0.00       191\n",
      "          3       0.95      0.99      0.97      3488\n",
      "\n",
      "avg / total       0.90      0.94      0.92      3772\n",
      "\n",
      "****************************************************************************************************\n",
      "Test Classification Report              precision    recall  f1-score   support\n",
      "\n",
      "          1       0.65      0.86      0.74        73\n",
      "          2       0.00      0.00      0.00       177\n",
      "          3       0.94      0.99      0.97      3178\n",
      "\n",
      "avg / total       0.89      0.94      0.91      3428\n",
      "\n",
      "****************************************************************************************************\n",
      "****************************************************************************************************\n"
     ]
    },
    {
     "name": "stderr",
     "output_type": "stream",
     "text": [
      "C:\\Users\\Rahul\\Anaconda3\\lib\\site-packages\\sklearn\\metrics\\classification.py:1135: UndefinedMetricWarning: Precision and F-score are ill-defined and being set to 0.0 in labels with no predicted samples.\n",
      "  'precision', 'predicted', average, warn_for)\n"
     ]
    },
    {
     "name": "stdout",
     "output_type": "stream",
     "text": [
      "Training confusion matrix\n",
      " [[  86    0    7]\n",
      " [   9    0  182]\n",
      " [  18    0 3470]]\n",
      "****************************************************************************************************\n",
      "Test confusion matrix\n",
      " [[  63    0   10]\n",
      " [   3    0  174]\n",
      " [  31    0 3147]]\n",
      "****************************************************************************************************\n"
     ]
    }
   ],
   "source": [
    "from sklearn.svm import SVC\n",
    "\n",
    "svm_clf = SVC(kernel='linear', class_weight={1: 10})\n",
    "\n",
    "train_score = classifier_scores(svm_clf, 'train', X_train, y_train, True)\n",
    "test_score = classifier_scores(svm_clf, 'test', X_test, y_test, True)\n",
    "\n",
    "print_classification_report(svm_clf, X_train, y_train, X_test, y_test)\n",
    "print_confusion_matrix(svm_clf, X_train, y_train, X_test, y_test)"
   ]
  },
  {
   "cell_type": "markdown",
   "metadata": {},
   "source": [
    "Did a bad job in predicting **class 2**\n",
    "\n",
    "Will be picking different ML techniques to get a better estimate of **class 2**."
   ]
  },
  {
   "cell_type": "code",
   "execution_count": 13,
   "metadata": {},
   "outputs": [
    {
     "name": "stdout",
     "output_type": "stream",
     "text": [
      "Accuracy score of classifier on train is 1.0\n",
      "Accuracy score of classifier on test is 0.991831971995\n",
      "****************************************************************************************************\n",
      "Training Classification Report\n",
      "              precision    recall  f1-score   support\n",
      "\n",
      "          1       1.00      1.00      1.00        93\n",
      "          2       1.00      1.00      1.00       191\n",
      "          3       1.00      1.00      1.00      3488\n",
      "\n",
      "avg / total       1.00      1.00      1.00      3772\n",
      "\n",
      "****************************************************************************************************\n",
      "Test Classification Report              precision    recall  f1-score   support\n",
      "\n",
      "          1       0.88      0.99      0.93        73\n",
      "          2       0.93      0.98      0.95       177\n",
      "          3       1.00      0.99      1.00      3178\n",
      "\n",
      "avg / total       0.99      0.99      0.99      3428\n",
      "\n",
      "****************************************************************************************************\n",
      "****************************************************************************************************\n",
      "Training confusion matrix\n",
      " [[  93    0    0]\n",
      " [   0  191    0]\n",
      " [   0    0 3488]]\n",
      "****************************************************************************************************\n",
      "Test confusion matrix\n",
      " [[  72    0    1]\n",
      " [   0  173    4]\n",
      " [  10   13 3155]]\n",
      "****************************************************************************************************\n"
     ]
    }
   ],
   "source": [
    "from sklearn.ensemble import RandomForestClassifier\n",
    "\n",
    "rf_clf = RandomForestClassifier(random_state=0)\n",
    "\n",
    "train_score = classifier_scores(rf_clf, 'train', X_train, y_train, True)\n",
    "test_score = classifier_scores(rf_clf, 'test', X_test, y_test, True)\n",
    "\n",
    "print_classification_report(rf_clf, X_train, y_train, X_test, y_test)\n",
    "print_confusion_matrix(rf_clf, X_train, y_train, X_test, y_test)"
   ]
  },
  {
   "cell_type": "code",
   "execution_count": 14,
   "metadata": {},
   "outputs": [
    {
     "name": "stdout",
     "output_type": "stream",
     "text": [
      "Requirement already up-to-date: imbalanced-learn in c:\\users\\rahul\\anaconda3\\lib\\site-packages (0.3.3)\n",
      "Requirement not upgraded as not directly required: numpy in c:\\users\\rahul\\anaconda3\\lib\\site-packages (from imbalanced-learn) (1.13.3)\n",
      "Requirement not upgraded as not directly required: scipy in c:\\users\\rahul\\anaconda3\\lib\\site-packages (from imbalanced-learn) (0.19.1)\n",
      "Requirement not upgraded as not directly required: scikit-learn in c:\\users\\rahul\\anaconda3\\lib\\site-packages (from imbalanced-learn) (0.19.1)\n"
     ]
    }
   ],
   "source": [
    "!pip install -U imbalanced-learn"
   ]
  },
  {
   "cell_type": "code",
   "execution_count": 15,
   "metadata": {},
   "outputs": [
    {
     "name": "stdout",
     "output_type": "stream",
     "text": [
      "Accuracy score of classifier on train is 1.0\n",
      "Accuracy score of classifier on test is 0.992415402567\n",
      "****************************************************************************************************\n",
      "Training Classification Report\n",
      "              precision    recall  f1-score   support\n",
      "\n",
      "          1       1.00      1.00      1.00      3488\n",
      "          2       1.00      1.00      1.00      3488\n",
      "          3       1.00      1.00      1.00      3488\n",
      "\n",
      "avg / total       1.00      1.00      1.00     10464\n",
      "\n",
      "****************************************************************************************************\n",
      "Test Classification Report              precision    recall  f1-score   support\n",
      "\n",
      "          1       0.86      0.99      0.92        73\n",
      "          2       0.93      1.00      0.96       177\n",
      "          3       1.00      0.99      1.00      3178\n",
      "\n",
      "avg / total       0.99      0.99      0.99      3428\n",
      "\n",
      "****************************************************************************************************\n",
      "****************************************************************************************************\n",
      "Training confusion matrix\n",
      " [[3488    0    0]\n",
      " [   0 3488    0]\n",
      " [   0    0 3488]]\n",
      "****************************************************************************************************\n",
      "Test confusion matrix\n",
      " [[  72    0    1]\n",
      " [   0  177    0]\n",
      " [  12   13 3153]]\n",
      "****************************************************************************************************\n"
     ]
    }
   ],
   "source": [
    "from imblearn.over_sampling import SMOTE # (Synthetic Minority Oversampling Technique)\n",
    "\n",
    "oversampler=SMOTE(random_state=0)\n",
    "os_features, os_labels = oversampler.fit_sample(X_train,y_train)\n",
    "\n",
    "rf_clf_os = RandomForestClassifier(random_state=42)\n",
    "\n",
    "train_score = classifier_scores(rf_clf_os, 'train', os_features, os_labels, True)\n",
    "test_score = classifier_scores(rf_clf_os, 'test', X_test, y_test, True)\n",
    "\n",
    "print_classification_report(rf_clf_os, os_features, os_labels, X_test, y_test)\n",
    "print_confusion_matrix(rf_clf_os, os_features, os_labels, X_test, y_test)"
   ]
  },
  {
   "cell_type": "code",
   "execution_count": 16,
   "metadata": {},
   "outputs": [
    {
     "name": "stdout",
     "output_type": "stream",
     "text": [
      "Accuracy score of classifier on train is 1.0\n",
      "Accuracy score of classifier on test is 0.992123687281\n",
      "****************************************************************************************************\n",
      "Training Classification Report\n",
      "              precision    recall  f1-score   support\n",
      "\n",
      "          1       1.00      1.00      1.00        93\n",
      "          2       1.00      1.00      1.00       191\n",
      "          3       1.00      1.00      1.00      3488\n",
      "\n",
      "avg / total       1.00      1.00      1.00      3772\n",
      "\n",
      "****************************************************************************************************\n",
      "Test Classification Report              precision    recall  f1-score   support\n",
      "\n",
      "          1       0.90      0.88      0.89        73\n",
      "          2       0.95      0.99      0.97       177\n",
      "          3       1.00      0.99      1.00      3178\n",
      "\n",
      "avg / total       0.99      0.99      0.99      3428\n",
      "\n",
      "****************************************************************************************************\n",
      "****************************************************************************************************\n",
      "Training confusion matrix\n",
      " [[  93    0    0]\n",
      " [   0  191    0]\n",
      " [   0    0 3488]]\n",
      "****************************************************************************************************\n",
      "Test confusion matrix\n",
      " [[  64    0    9]\n",
      " [   0  176    1]\n",
      " [   7   10 3161]]\n",
      "****************************************************************************************************\n"
     ]
    }
   ],
   "source": [
    "from sklearn.tree import DecisionTreeClassifier\n",
    "\n",
    "dtree_clf = DecisionTreeClassifier(random_state=0)\n",
    "\n",
    "train_score = classifier_scores(dtree_clf, 'train', X_train, y_train, True)\n",
    "test_score = classifier_scores(dtree_clf, 'test', X_test, y_test, True)\n",
    "\n",
    "print_classification_report(dtree_clf, X_train, y_train, X_test, y_test)\n",
    "print_confusion_matrix(dtree_clf, X_train, y_train, X_test, y_test)"
   ]
  },
  {
   "cell_type": "markdown",
   "metadata": {},
   "source": [
    "SMOTE with RandomForestClassifier performed better among SVM, RandomForestClassifier, DecisionTreeClassifier."
   ]
  },
  {
   "cell_type": "code",
   "execution_count": 17,
   "metadata": {
    "collapsed": true
   },
   "outputs": [],
   "source": [
    "# more documentation to be added."
   ]
  },
  {
   "cell_type": "markdown",
   "metadata": {},
   "source": [
    "## Plot a ROC curve"
   ]
  },
  {
   "cell_type": "code",
   "execution_count": 18,
   "metadata": {},
   "outputs": [
    {
     "data": {
      "image/png": "[encoded data removed]",
      "text/plain": [
       "<matplotlib.figure.Figure at 0x229e230c4a8>"
      ]
     },
     "metadata": {},
     "output_type": "display_data"
    }
   ],
   "source": [
    "from sklearn.metrics import roc_curve, roc_auc_score\n",
    "\n",
    "plt.figure()\n",
    "plt.plot([0, 1], [0, 1],'--')\n",
    "plt.xlabel('False Positive Rate')\n",
    "plt.ylabel('True Positive Rate')\n",
    "plt.title('Receiver operating characteristic')\n",
    "plt.legend(loc=\"lower right\")\n",
    "plt.show()"
   ]
  },
  {
   "cell_type": "code",
   "execution_count": null,
   "metadata": {
    "collapsed": true
   },
   "outputs": [],
   "source": []
  }
 ],
 "metadata": {
  "kernelspec": {
   "display_name": "Python 3",
   "language": "python",
   "name": "python3"
  },
  "language_info": {
   "codemirror_mode": {
    "name": "ipython",
    "version": 3
   },
   "file_extension": ".py",
   "mimetype": "text/x-python",
   "name": "python",
   "nbconvert_exporter": "python",
   "pygments_lexer": "ipython3",
   "version": "3.6.3"
  }
 },
 "nbformat": 4,
 "nbformat_minor": 2
}
